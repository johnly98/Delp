{
 "cells": [
  {
   "cell_type": "code",
   "execution_count": 2,
   "metadata": {},
   "outputs": [],
   "source": [
    "import requests\n",
    "from bs4 import BeautifulSoup\n",
    "import json\n",
    "import time\n",
    "import math\n",
    "import os"
   ]
  },
  {
   "cell_type": "code",
   "execution_count": 16,
   "metadata": {},
   "outputs": [
    {
     "data": {
      "text/plain": [
       "[{'reviewRating': {'ratingValue': 4},\n",
       "  'datePublished': '2018-10-22',\n",
       "  'description': \"Came here on a Saturday with a group of friends . It was crowded but not too much that you are touching elbows with other people . It was a fun place to be and it's spacious that makes a great place for a hang out that's not too stuffy. There's a bar on the left side or you can sit in the tables and have a waiter serve you. There are also arcade games , pool tables, and a bunch of other games for everyone to have fun and play with . TV screens everywhere as well. \\n\\nOverall, our group had a blast ! $27 for a pitcher of beer we ended up buying 3 . Definitely a place that I would come again.\",\n",
       "  'author': 'Vanessa L.'},\n",
       " {'reviewRating': {'ratingValue': 1},\n",
       "  'datePublished': '2018-09-30',\n",
       "  'description': 'Want a galore of tvs and no good view of those tvs to watch the game? \\n\\nWant to find a place to sit with your pregnant s.o. to watch the game, but cant because there are like 8+ guys lounging across a 4-top waiting for their other non-existent friends to show up? \\n\\nWant to order a bloody mary and be told you have to ask for promotional price ($7 ads everywhere) before hand after you get your bill?\\n\\nWant a cocky bartender with a tear tattoo that obviously hates his job, but somehow is still in the business of making peoples experiences enjoyable? \\n\\nIf you want all three or any of the above, than this place is for you! \\n\\nBtw, we really wanted to like this place. I eat tator tots like crack, but after the poor experience from getting drinks, we opted to go to Boardroom in North Beach to spend our usual Sunday spurge for football Sunday on more beers and eats.',\n",
       "  'author': 'Roman V.'},\n",
       " {'reviewRating': {'ratingValue': 3},\n",
       "  'datePublished': '2018-09-26',\n",
       "  'description': \"The Golden Gate Tap Room is located near the south east corner of Sutter and Powell just a block north of Union Square park.  \\n\\nThe actual place is a few floors up and at the ground level there's security checking for IDs and giving stamps to ensure age of majority was indeed checked before entry.  This place is definitely a sports bar as the identity leaves no ambiguity whatsoever.  Big screens showing games, video games, music, wings, beer and such give the place a life of a clubhouse type of hangout.\\n\\nWhile I didn't feel like having any food I very well could have gone with something since they have options for small and larger sharing type plates.  You can get a small plate of wings or you can get a wing platter with different flavors.  Typical bar type food like burgers, sandwiches, etc are all on the menu here as well as an extensive drink menu with a full bar as well.\\n\\nI wasn't hungry for bar food at the time so I did stay and sit at the bar for just a couple beers because after a long day of going all over the city a nice sit down drink or two was all I was looking for here.\\n\\nI didn't see too many places like this around the area so this being one of the few or only one I noticed was filling a niche in the neighborhood I'm guessing.  Being that there are so many hotels in the area there's a lot of out of towners like myself just looking for this type of place in the area so it works out.\",\n",
       "  'author': 'Lambert P.'},\n",
       " {'reviewRating': {'ratingValue': 4},\n",
       "  'datePublished': '2018-10-18',\n",
       "  'description': \"Good sports bar , great beers on tap. Lots of beer on tap. Awesome games to play. Shitty cocktails, don't ever order cocktails here.\",\n",
       "  'author': 'Madhu J.'},\n",
       " {'reviewRating': {'ratingValue': 3},\n",
       "  'datePublished': '2018-09-03',\n",
       "  'description': \"Solid place to watch the games. Don't let the website fool you as they open early for college and NFL football. Inside is a sports fans' dream with TVs and large screen projections all over the place. They have a mix of high tops, tables, and couches perched in front of the TVs. They also have a number of activities including skeeball, hot shot basketball, and a how hard can you punch game (there were probably others that I missed). \\n\\nThe food was decent, albeit the portions were a bit small for what you paid and the beer was a bit pricey. The staff also seemed a bit preoccupied despite it being relatively slow.  Come here for the atmosphere and the great view for any game or sporting event, the food and drinks should be secondary to any of that anyways, right?\",\n",
       "  'author': 'Evan P.'},\n",
       " {'reviewRating': {'ratingValue': 5},\n",
       "  'datePublished': '2018-09-17',\n",
       "  'description': \"This place is soooooo cool! \\n\\nI haven't been carded in a while so it felt good when security asked for my ID before letting me up. \\n\\nAfter walking up some steep tight stairs we made it inside and to the bar. I noticed a large beer menu hand written on wood along side of the beer menu is the cider menu. The well drinks aren't on the menu so be prepared to know what to ask for. I didn't and the bartender couldn't believe I was of age. LOL. She asked to see my stamp for verification. Sure. I know I'm old, I just had a few shots before getting here and am confused on what I want to continue drinking without hurling on your nicely cleaned floors. \\n\\nMargaritas it is. I didn't look nor taste like a real margarita but it made due for my state of mind at the time.\\n\\nOoooh look games! Ski ball and other arcade style games and games I've never seen or played before. COOL! \\n\\nFood? Yup, they got that too. I ordered the filet mignon skewers, smaller in size than expected, but very very tasty and well worth every bite. We also ordered some tots fully loaded with the bacon on the side (I haven't eaten pork in almost 10 years but the bacon looked fresh and thick, others enjoyed it). \\n\\nOverall I can't wait to come back! This place deserves 10 stars if I could.\",\n",
       "  'author': 'Kyshia M.'},\n",
       " {'reviewRating': {'ratingValue': 5},\n",
       "  'datePublished': '2018-05-29',\n",
       "  'description': \"This is a perfect spot if you are huge sport fan and love arcades!  I just happened to be both so this is my go to if I want to watch a game, play some arcades, and have a drink or two with friends.  It's a little walk from my work, but it's a great location.  I have recently came here to watch the Warriors games and it was very nice.  My friend and I came here just before the huge crowd and got us a seat right on the bar.  We had the TV right in front of you and people are cheering and celebrating with the victory.  \\n\\nThis place has 3 floors. 2nd floor is where all the arcades is at.  There's TV and tables but it seem a little crowded to be sitting for dinner.  3rd floor: where more tables and seats and perfect to watch the game.  there are 2 pool tables and little bit on the arcade section in the corner.  so if you ever just wanna come here to watch the game or chill with friends.  3rd floor is where you wanna go.  \\n\\nTheir foods are decent.  I usually come here just for bar food, typical wings, fries, fried calamari, and popcorn shrimp.  they all seem super good with the beer.  Service seem to be great and on point.  \\n\\nThey get super busy during games and weekend. so plan accordingly.\",\n",
       "  'author': 'Candice Y.'},\n",
       " {'reviewRating': {'ratingValue': 2},\n",
       "  'datePublished': '2018-10-21',\n",
       "  'description': \"Came here from out of town on a Sunday to watch football because they show all the games. The food is solidly mediocre and they don't serve coffee. I asked if I could run to Starbucks and bring it in because they don't sell it, but they said no outside food or beverages allowed. Perfectly reasonable policy, but if you're going to open for breakfast make coffee available.\",\n",
       "  'author': 'Michael B.'},\n",
       " {'reviewRating': {'ratingValue': 1},\n",
       "  'datePublished': '2018-10-20',\n",
       "  'description': 'Gotta tell it like it is!  I popped in there yesterday because I was close and was hungry and the website makes you curious.  First of all there is a slow elevator or a trek up some rather steep stairs.  Once I got upstairs it was pretty empty and I was greeted by no one but the smell of sour bar rags and locker room/ feet smell.  Yuck!!  It was a little bit after lunch.  The place was pretty much empty.  So after I took a look around and shook my head, I left.  Listen up if you are gonna profess to be a bar and grill on Union Square clean that place up.  You are missing an opportunity to have classy people patronize your establishment.  The smell alone made me fearful of salmonella or food poisoning.',\n",
       "  'author': 'Pam P.'},\n",
       " {'reviewRating': {'ratingValue': 5},\n",
       "  'datePublished': '2018-07-30',\n",
       "  'description': \"This place is a lot of fun. Especially if you were in town and wanted to watch a sports game. They had an awesome beer selection, and their food menu seemed rather nice. They have a large area, and would be great for any sized group of friends. The bar was really clean, and the staff was friendly. \\n\\nI'm going to stop by for another beer the next time I'm in the city. \\n\\nThanks for the great experience!\",\n",
       "  'author': 'Jonathan H.'},\n",
       " {'reviewRating': {'ratingValue': 4},\n",
       "  'datePublished': '2018-03-25',\n",
       "  'description': \"I'm not really sure why GGTR doesn't have a better rating - it has everything I'm looking for in a sports bar, plus more! Awesome IPA selection at reasonable (city) prices? Check. Tons of TVs to watch the game? Check. Variety of fries? Definitely - regular, sweet potato, garlic, truffle, and tots! The clincher was the Skeeball; I freaking LOVE skeeball. \\n\\nMy sister and I came during the Duke/Kansas game and the place was packed, but the bar service was  fast and friendly. The entire bar had ample open seating, though there were more than a few empty tables that desperately needed to be bussed and wiped down. My Dogfish beer was hoppy and cold just like I like it, and the basket of garlic fries with spicy aioli was AMAZING. Umm... did I mention they have skeeball? And if that's not your jam, there's also a pool table, shuffleboard, foosball, Pac-Man, Buckhunter, basketball, Goldentee, some Marvel Street Fighter-esq game, and probably a few others that I'm forgetting. Either way, if you're not entertained here, you need to take a long hard look at where you went wrong in life.\",\n",
       "  'author': 'Justine L.'},\n",
       " {'reviewRating': {'ratingValue': 4},\n",
       "  'datePublished': '2018-08-08',\n",
       "  'description': 'This is a cool spot to bring a date or some friends to play pool, shuffleboard, other arcade games (including mini basketball shootout), or just watch the game!\\n\\nThey had a pretty good draft beer list, plenty of TVs, and plenty of seating!',\n",
       "  'author': 'Michael K.'},\n",
       " {'reviewRating': {'ratingValue': 1},\n",
       "  'datePublished': '2018-09-02',\n",
       "  'description': \"Never tried the food so I can't comment on the quality. \\nAnd I don't do reviews frequently. \\nBut we sat at the table for 20 minutes without being acknowledged. Had to find a server. \\nShe came over 5 minutes later. Without menus. She had to go find some so we could place an order. \\nWe ordered beer and water, and told her we would be ready by the time she got back with the beer. \\n25 minutes later, she had served every table in the joint without even making eye contact or coming by to say she'd be back. \\nAfter over 50 minutes, we still did not have our beer or water. \\nWe went next door and are now spending our money somewhere that deserves our money. \\n09/02/18 7-8:00 pm.\",\n",
       "  'author': 'Gary G.'},\n",
       " {'reviewRating': {'ratingValue': 3},\n",
       "  'datePublished': '2017-12-31',\n",
       "  'description': 'The sour beer was my favorite. \\n\\nThe food was just ok. \\n\\nI can see why people like this place. \\n\\nI do not. I prefer Richmond Republic. \\n\\nWhat I do like about it? After shopping around Union Square this is a good option for cold beer and greasy bites.',\n",
       "  'author': 'Jennifer C P.'},\n",
       " {'reviewRating': {'ratingValue': 1},\n",
       "  'datePublished': '2018-09-09',\n",
       "  'description': \"I'm not sure how they can call themselves a sports bar. People are here for one reason (and it's definitely not their food).. or their service which is god awful. \\nFootball Sunday and the TVs are a disaster. Golf and informercials.. ?\",\n",
       "  'author': 'Ashley H.'},\n",
       " {'reviewRating': {'ratingValue': 4},\n",
       "  'datePublished': '2018-07-01',\n",
       "  'description': \"This place has been on my list of places to try for a while. Came here on a Friday night right before 8pm and it was busy but still plenty of space to sit and play games if you wanted to. The ambiance is very casual, which is great if you're looking to grab a beer or cocktail after after work and hang out with friends. They also have cool games like basketball, shuffleboard, and pool. Awesome place to kick it and relax.\\n\\nWide selection of beers, from Hefs, IPAs, lagers, porters, stouts. You can also get pitchers to share with others as well. I've tried their carne asada fries - now if you're looking to order carne asada fries for authenticity or super great taste wrong place but for casual drinking to get some food down your stomach, they were pretty good. Fries were crispy and they didn't skimp out on the toppings like guac and meat. Got the job done of satisfying drunchies. \\n\\nI would definitely come back if I was in the area to unwind after a long week at work!\",\n",
       "  'author': 'Andrea F.'},\n",
       " {'reviewRating': {'ratingValue': 4},\n",
       "  'datePublished': '2017-12-05',\n",
       "  'description': \"REVIEWER # 744\\n\\nThis place is HUGE! (Yup, that's what she said)!\\n\\nIf you are staying in the Powell area, this place is a MUST! I've been meaning to come check this place out and finally had the chance to do so over the weekend. Golden Gate Tap Room is one of the coolest sports bars in SF! They are one of two main craft beer halls that I had on my list; this place can easily be overlooked but once inside its massive.  I came here on a Saturday night with a couple friends and we were amazed to see how big this sports bar is. They have two levels\\n\\nThe upstairs level feels like you just stepped into an upgraded adult 'Dave and Busters' with big screen TV's; perfect for watching any of the games, hoop, pinball, group Pac Man and pool tables! There are tons of seating and perfect for coming here with a group. The atmosphere was great! They have a lot of draft beer and an extensive menu. I didn't eat any of the food but the portions were big and it looked tasty. Next time I plan to order: popcorn shrimp, truffle fries, and Blue Moon Chicken nachos; YUM! \\n\\nThe bar selection is massive, (Hello, Drinkers!), serving everything you could think of. The drinks here are UH-MAZING! I ordered a long island-trust me, it was really stiff! I would have to come during happy hour to check this place out until 6 PM.  Make sure you arrive early to get a good seat, there's tons of seating (but they fill up quickly), and many floor levels to choose from; come check this place out!\",\n",
       "  'author': 'Porsche C.'},\n",
       " {'reviewRating': {'ratingValue': 1},\n",
       "  'datePublished': '2018-10-16',\n",
       "  'description': \"Opening night for NBA, and only one hard to see TV on each floor. Not much of a sports bar, it's a baseball bar.\",\n",
       "  'author': 'Chris T.'},\n",
       " {'reviewRating': {'ratingValue': 4},\n",
       "  'datePublished': '2018-05-20',\n",
       "  'description': \"I've been trying to stay away from writing reviews about bars lately since I'm trying not to appear like an alcoholic, however GG Tap Room deserves a shout out. Been here a few times for drinks after work and have always enjoyed the experience. The bouncers at the door have always been friendly and not pretentious like other spots. The bartenders have always been very quick and efficient, and I have never once been ignored while standing at the bar to order a drink. And the waitresses have all been pretty good about occasionally stopping by our tables to clean up empty glasses and take orders. \\n\\n\\nPlenty of TV's on the 3rd and 4th floor to watch whatever game happens to be playing (or reruns of games), and some arcade games (skee ball, pac man, basketball hoop, punching machine, foosball) and pool tables on the 3rd to pass the time. Plus if you're counting calories, you can just walk up and down the winding stairs a few times to burn off those drinks that you just consumed.\",\n",
       "  'author': 'Alex C.'},\n",
       " {'reviewRating': {'ratingValue': 1},\n",
       "  'datePublished': '2018-08-12',\n",
       "  'description': 'The absolute worst bartender I have ever encountered.  Poor attitude, unprofessional, seemed to hate his job.  Treated multiple customers with a very negative attitude.  If I owned or managed the establishment, I would terminate him immediately.\\nI will never return to Golden Gate Tap Room.',\n",
       "  'author': 'Ryan P.'}]"
      ]
     },
     "execution_count": 16,
     "metadata": {},
     "output_type": "execute_result"
    }
   ],
   "source": [
    "source = requests.get(\"https://www.yelp.com/biz/golden-gate-tap-room-san-francisco\")\n",
    "soup = BeautifulSoup(source.content, features = \"html.parser\")\n",
    "reviews = soup.find_all(\"script\", {\"type\": \"application/ld+json\"})[1].text\n",
    "rev = json.loads(reviews)\n",
    "review_list = rev['review']\n",
    "review_list"
   ]
  },
  {
   "cell_type": "code",
   "execution_count": null,
   "metadata": {},
   "outputs": [],
   "source": [
    "reviews = soup.find_all(\"script\", {\"type\": \"application/ld+json\"})[1].text\n",
    "rev = json.loads(reviews)\n",
    "rev"
   ]
  },
  {
   "cell_type": "code",
   "execution_count": null,
   "metadata": {
    "scrolled": false
   },
   "outputs": [],
   "source": [
    "rev['review']"
   ]
  },
  {
   "cell_type": "code",
   "execution_count": 1,
   "metadata": {},
   "outputs": [
    {
     "ename": "NameError",
     "evalue": "name 'requests' is not defined",
     "output_type": "error",
     "traceback": [
      "\u001b[0;31m---------------------------------------------------------------------------\u001b[0m",
      "\u001b[0;31mNameError\u001b[0m                                 Traceback (most recent call last)",
      "\u001b[0;32m<ipython-input-1-abf0ca467936>\u001b[0m in \u001b[0;36m<module>\u001b[0;34m()\u001b[0m\n\u001b[1;32m      2\u001b[0m \u001b[0mrestaurant_url\u001b[0m \u001b[0;34m=\u001b[0m \u001b[0mbase_url\u001b[0m \u001b[0;34m+\u001b[0m \u001b[0;34m\"cable-car-museum-san-francisco\"\u001b[0m\u001b[0;34m\u001b[0m\u001b[0m\n\u001b[1;32m      3\u001b[0m \u001b[0mrestaurant_url\u001b[0m \u001b[0;34m=\u001b[0m \u001b[0;34m\"https://www.yelp.com/biz/golden-gate-tap-room-san-francisco?start=60\"\u001b[0m\u001b[0;34m\u001b[0m\u001b[0m\n\u001b[0;32m----> 4\u001b[0;31m \u001b[0msource\u001b[0m \u001b[0;34m=\u001b[0m \u001b[0mrequests\u001b[0m\u001b[0;34m.\u001b[0m\u001b[0mget\u001b[0m\u001b[0;34m(\u001b[0m\u001b[0mrestaurant_url\u001b[0m\u001b[0;34m)\u001b[0m\u001b[0;34m\u001b[0m\u001b[0m\n\u001b[0m\u001b[1;32m      5\u001b[0m \u001b[0msoup\u001b[0m \u001b[0;34m=\u001b[0m \u001b[0mBeautifulSoup\u001b[0m\u001b[0;34m(\u001b[0m\u001b[0msource\u001b[0m\u001b[0;34m.\u001b[0m\u001b[0mcontent\u001b[0m\u001b[0;34m,\u001b[0m \u001b[0mfeatures\u001b[0m \u001b[0;34m=\u001b[0m \u001b[0;34m\"html.parser\"\u001b[0m\u001b[0;34m)\u001b[0m\u001b[0;34m\u001b[0m\u001b[0m\n\u001b[1;32m      6\u001b[0m \u001b[0mjson_data\u001b[0m \u001b[0;34m=\u001b[0m \u001b[0msoup\u001b[0m\u001b[0;34m.\u001b[0m\u001b[0mfind_all\u001b[0m\u001b[0;34m(\u001b[0m\u001b[0;34m\"script\"\u001b[0m\u001b[0;34m,\u001b[0m \u001b[0;34m{\u001b[0m\u001b[0;34m\"type\"\u001b[0m\u001b[0;34m:\u001b[0m \u001b[0;34m\"application/ld+json\"\u001b[0m\u001b[0;34m}\u001b[0m\u001b[0;34m)\u001b[0m\u001b[0;34m[\u001b[0m\u001b[0;36m1\u001b[0m\u001b[0;34m]\u001b[0m\u001b[0;34m.\u001b[0m\u001b[0mtext\u001b[0m\u001b[0;34m\u001b[0m\u001b[0m\n",
      "\u001b[0;31mNameError\u001b[0m: name 'requests' is not defined"
     ]
    }
   ],
   "source": [
    "base_url = \"https://www.yelp.com/biz/\"\n",
    "restaurant_url = base_url + \"cable-car-museum-san-francisco\"\n",
    "source = requests.get(restaurant_url)\n",
    "soup = BeautifulSoup(source.content, features = \"html.parser\")\n",
    "json_data = soup.find_all(\"script\", {\"type\": \"application/ld+json\"})[1].text\n",
    "json_data = json.loads(json_data)\n",
    "print(json_data)\n",
    "num_reviews = json_data['aggregateRating']['reviewCount']\n",
    "num_pages = math.ceil(num_reviews / 20)\n",
    "if num_reviews >= 100:\n",
    "  reviews = []\n",
    "\n",
    "  # First page\n",
    "  current_reviews = json_data['review']\n",
    "  for r in current_reviews:\n",
    "    reviews.append(r)\n",
    "\n",
    "  # Every page after the first page\n",
    "  for page in range(1, num_pages+1):\n",
    "    print(page)\n",
    "    url = restaurant_url + \"?start=\" + str(page*20)\n",
    "    source = requests.get(restaurant_url)\n",
    "    soup = BeautifulSoup(source.content, features = \"html.parser\")\n",
    "    json_data = soup.find_all(\"script\", {\"type\": \"application/ld+json\"})[1].text\n",
    "    json_data = json.loads(json_data)\n",
    "    current_reviews = json_data['review']\n",
    "    for r in current_reviews:\n",
    "      reviews.append(r)\n",
    "    #time.sleep(3)\n",
    "\n",
    "  # Write to disk (WAIT HOW DO WE DO THIS ON COLAB)\n",
    "  file_name = \"cable-car-museum-san-francisco\" + \".json\"\n",
    "  with open(file_name, 'wb') as f:\n",
    "    for review in reviews:\n",
    "      f.write(json.dumps(review))\n",
    "      f.write(\"\\n\")"
   ]
  },
  {
   "cell_type": "code",
   "execution_count": 8,
   "metadata": {},
   "outputs": [],
   "source": [
    "file_name = \"cable-car-museum-san-francisco\" + \".json\"\n",
    "with open(file_name, 'w+') as f:\n",
    "    for review in reviews:\n",
    "        f.write(json.dumps(review))\n",
    "        f.write(\"\\n\")"
   ]
  },
  {
   "cell_type": "code",
   "execution_count": null,
   "metadata": {},
   "outputs": [],
   "source": [
    "for restaurant in restaursnts:\n",
    "    request\n",
    "    soup\n",
    "    find json\n",
    "    filter restaurants <100 reviews\n",
    "    json.loads json into dict\n",
    "    "
   ]
  }
 ],
 "metadata": {
  "kernelspec": {
   "display_name": "Python 3",
   "language": "python",
   "name": "python3"
  },
  "language_info": {
   "codemirror_mode": {
    "name": "ipython",
    "version": 3
   },
   "file_extension": ".py",
   "mimetype": "text/x-python",
   "name": "python",
   "nbconvert_exporter": "python",
   "pygments_lexer": "ipython3",
   "version": "3.6.5"
  }
 },
 "nbformat": 4,
 "nbformat_minor": 2
}
