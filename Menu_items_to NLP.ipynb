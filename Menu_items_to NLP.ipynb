{
 "cells": [
  {
   "cell_type": "code",
   "execution_count": 16,
   "metadata": {
    "collapsed": true
   },
   "outputs": [],
   "source": [
    "import pandas as pd\n",
    "import os\n",
    "import re"
   ]
  },
  {
   "cell_type": "code",
   "execution_count": 52,
   "metadata": {},
   "outputs": [],
   "source": [
    "#MAP from restaurant name to list [filtered reviews in a dataframe, list of menu items]\n",
    "mapping  = {}\n",
    "for restaurant in os.listdir(\"menu_items/\")[1:]: #get rid of the first DS_Store name TAKE OUT THE 2\n",
    "    name = restaurant[:-4]\n",
    "    menu = []\n",
    "    try:\n",
    "        reviews = pd.read_json(\"reviews/\"+name+\".json\",lines = True)\n",
    "    except:\n",
    "        continue\n",
    "    with open(\"menu_items/\" + restaurant) as f:\n",
    "        content = f.read().splitlines()\n",
    "        for item in content:\n",
    "            menu.append(''.join(re.findall(r'[\\w\\d]*[\\s]*[\\w\\d]*[^\\s]', item)))\n",
    "    mapping[name] = [reviews, menu]"
   ]
  },
  {
   "cell_type": "code",
   "execution_count": 53,
   "metadata": {},
   "outputs": [],
   "source": [
    "for restaurant in mapping:\n",
    "    mapping[restaurant][0]['rating'] = mapping[restaurant][0][\"reviewRating\"].apply(func = lambda x: x[\"ratingValue\"])\n",
    "    mapping[restaurant][0] = mapping[restaurant][0][[\"description\", \"rating\"]]\n",
    "    mapping[restaurant][0] = mapping[restaurant][0].rename(index = str, columns = {'description':'review'})"
   ]
  },
  {
   "cell_type": "code",
   "execution_count": 1,
   "metadata": {},
   "outputs": [
    {
     "ename": "NameError",
     "evalue": "name 'mapping' is not defined",
     "output_type": "error",
     "traceback": [
      "\u001b[0;31m---------------------------------------------------------------------------\u001b[0m",
      "\u001b[0;31mNameError\u001b[0m                                 Traceback (most recent call last)",
      "\u001b[0;32m<ipython-input-1-603b06cfaa85>\u001b[0m in \u001b[0;36m<module>\u001b[0;34m()\u001b[0m\n\u001b[0;32m----> 1\u001b[0;31m \u001b[0mmapping\u001b[0m\u001b[0;34m\u001b[0m\u001b[0m\n\u001b[0m",
      "\u001b[0;31mNameError\u001b[0m: name 'mapping' is not defined"
     ]
    }
   ],
   "source": [
    "mapping"
   ]
  },
  {
   "cell_type": "code",
   "execution_count": null,
   "metadata": {
    "collapsed": true
   },
   "outputs": [],
   "source": []
  }
 ],
 "metadata": {
  "kernelspec": {
   "display_name": "Python 3",
   "language": "python",
   "name": "python3"
  },
  "language_info": {
   "codemirror_mode": {
    "name": "ipython",
    "version": 3
   },
   "file_extension": ".py",
   "mimetype": "text/x-python",
   "name": "python",
   "nbconvert_exporter": "python",
   "pygments_lexer": "ipython3",
   "version": "3.6.5"
  }
 },
 "nbformat": 4,
 "nbformat_minor": 2
}
